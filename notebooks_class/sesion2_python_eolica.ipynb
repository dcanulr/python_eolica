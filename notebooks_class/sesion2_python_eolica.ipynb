{
 "cells": [
  {
   "cell_type": "markdown",
   "metadata": {
    "id": "SRklqlgfU08B"
   },
   "source": [
    "# Sesion 2\n",
    "\n"
   ]
  },
  {
   "cell_type": "markdown",
   "metadata": {
    "id": "yaT_aVLH5dRK"
   },
   "source": [
    "# Mas sobre listas"
   ]
  },
  {
   "cell_type": "code",
   "execution_count": 1,
   "metadata": {},
   "outputs": [],
   "source": [
    "a = [10,20,30,40,50]"
   ]
  },
  {
   "cell_type": "code",
   "execution_count": 2,
   "metadata": {},
   "outputs": [
    {
     "data": {
      "text/plain": [
       "list"
      ]
     },
     "execution_count": 2,
     "metadata": {},
     "output_type": "execute_result"
    }
   ],
   "source": [
    "type(a)"
   ]
  },
  {
   "cell_type": "code",
   "execution_count": 6,
   "metadata": {},
   "outputs": [
    {
     "data": {
      "text/plain": [
       "[10, 20, 30, 40, 50, 10, 20, 30, 40, 50]"
      ]
     },
     "execution_count": 6,
     "metadata": {},
     "output_type": "execute_result"
    }
   ],
   "source": [
    "a*2"
   ]
  },
  {
   "cell_type": "markdown",
   "metadata": {
    "id": "Xywc-Nn85Xha"
   },
   "source": [
    "## Potencia del viento\n",
    "$P=\\frac{1}{2}\\rho A V^3$"
   ]
  },
  {
   "cell_type": "code",
   "execution_count": 7,
   "metadata": {},
   "outputs": [],
   "source": [
    "rho = 1.2 # densidad\n",
    "A = 1 #area"
   ]
  },
  {
   "cell_type": "code",
   "execution_count": 10,
   "metadata": {},
   "outputs": [],
   "source": [
    "P = (0.5)*(rho)*A*(3)**3"
   ]
  },
  {
   "cell_type": "code",
   "execution_count": 11,
   "metadata": {},
   "outputs": [
    {
     "data": {
      "text/plain": [
       "16.2"
      ]
     },
     "execution_count": 11,
     "metadata": {},
     "output_type": "execute_result"
    }
   ],
   "source": [
    "P"
   ]
  },
  {
   "cell_type": "code",
   "execution_count": null,
   "metadata": {},
   "outputs": [],
   "source": []
  },
  {
   "cell_type": "markdown",
   "metadata": {
    "id": "xrVBfNXn5iHE"
   },
   "source": [
    "# Definir una función"
   ]
  },
  {
   "cell_type": "code",
   "execution_count": 12,
   "metadata": {},
   "outputs": [],
   "source": [
    "def elevar(x):\n",
    "    return(x**2)"
   ]
  },
  {
   "cell_type": "code",
   "execution_count": 14,
   "metadata": {},
   "outputs": [],
   "source": [
    "def promedio(a,b,c):\n",
    "    suma = a+b+c\n",
    "    prom = suma/3\n",
    "    return(prom)"
   ]
  },
  {
   "cell_type": "code",
   "execution_count": 15,
   "metadata": {},
   "outputs": [
    {
     "data": {
      "text/plain": [
       "43.333333333333336"
      ]
     },
     "execution_count": 15,
     "metadata": {},
     "output_type": "execute_result"
    }
   ],
   "source": [
    "promedio(40,30,60)"
   ]
  },
  {
   "cell_type": "code",
   "execution_count": 16,
   "metadata": {},
   "outputs": [],
   "source": [
    "def potencia(rho, A, V):\n",
    "    return(0.5*(rho)*(A)*(V**3))"
   ]
  },
  {
   "cell_type": "code",
   "execution_count": 17,
   "metadata": {},
   "outputs": [
    {
     "data": {
      "text/plain": [
       "16.2"
      ]
     },
     "execution_count": 17,
     "metadata": {},
     "output_type": "execute_result"
    }
   ],
   "source": [
    "potencia(1.2, 1, 3)"
   ]
  },
  {
   "cell_type": "code",
   "execution_count": 18,
   "metadata": {},
   "outputs": [
    {
     "data": {
      "text/plain": [
       "129.6"
      ]
     },
     "execution_count": 18,
     "metadata": {},
     "output_type": "execute_result"
    }
   ],
   "source": [
    "potencia(1.2,1,6)"
   ]
  },
  {
   "cell_type": "code",
   "execution_count": 21,
   "metadata": {},
   "outputs": [],
   "source": [
    "def potencia(V, rho=1.2, A=1):\n",
    "    return(0.5*(rho)*(A)*(V**3))"
   ]
  },
  {
   "cell_type": "code",
   "execution_count": 25,
   "metadata": {},
   "outputs": [],
   "source": [
    "def potencia(V, A=1):\n",
    "    rho=1.2 #densidad\n",
    "    return(0.5*(rho)*(A)*(V**3))"
   ]
  },
  {
   "cell_type": "code",
   "execution_count": 26,
   "metadata": {},
   "outputs": [
    {
     "data": {
      "text/plain": [
       "129.6"
      ]
     },
     "execution_count": 26,
     "metadata": {},
     "output_type": "execute_result"
    }
   ],
   "source": [
    "potencia(6)"
   ]
  },
  {
   "cell_type": "code",
   "execution_count": 27,
   "metadata": {},
   "outputs": [
    {
     "data": {
      "text/plain": [
       "648.0"
      ]
     },
     "execution_count": 27,
     "metadata": {},
     "output_type": "execute_result"
    }
   ],
   "source": [
    "potencia(6, A=5)"
   ]
  },
  {
   "cell_type": "code",
   "execution_count": 28,
   "metadata": {},
   "outputs": [],
   "source": [
    "vels = [0,1,2,3,4,5,6,7,8,9,10]"
   ]
  },
  {
   "cell_type": "code",
   "execution_count": 33,
   "metadata": {},
   "outputs": [],
   "source": [
    "pot = []\n",
    "for i in vels:\n",
    "    pot.append(potencia(i))"
   ]
  },
  {
   "cell_type": "code",
   "execution_count": 39,
   "metadata": {},
   "outputs": [],
   "source": [
    "def lista_pot(lista_v):\n",
    "    pot = []\n",
    "    for i in lista_v:\n",
    "        pot.append(potencia(i))\n",
    "    return(pot)"
   ]
  },
  {
   "cell_type": "code",
   "execution_count": 36,
   "metadata": {},
   "outputs": [
    {
     "data": {
      "text/plain": [
       "[0.0,\n",
       " 0.6,\n",
       " 4.8,\n",
       " 16.2,\n",
       " 38.4,\n",
       " 75.0,\n",
       " 129.6,\n",
       " 205.79999999999998,\n",
       " 307.2,\n",
       " 437.4,\n",
       " 600.0]"
      ]
     },
     "execution_count": 36,
     "metadata": {},
     "output_type": "execute_result"
    }
   ],
   "source": [
    "lista_pot(vels)"
   ]
  },
  {
   "cell_type": "code",
   "execution_count": 37,
   "metadata": {},
   "outputs": [],
   "source": [
    "vel_1 = [.5,60,87,121]"
   ]
  },
  {
   "cell_type": "code",
   "execution_count": 42,
   "metadata": {},
   "outputs": [],
   "source": [
    "pots = lista_pot(vels)"
   ]
  },
  {
   "cell_type": "code",
   "execution_count": 43,
   "metadata": {},
   "outputs": [
    {
     "data": {
      "text/plain": [
       "[0.0,\n",
       " 0.6,\n",
       " 4.8,\n",
       " 16.2,\n",
       " 38.4,\n",
       " 75.0,\n",
       " 129.6,\n",
       " 205.79999999999998,\n",
       " 307.2,\n",
       " 437.4,\n",
       " 600.0]"
      ]
     },
     "execution_count": 43,
     "metadata": {},
     "output_type": "execute_result"
    }
   ],
   "source": [
    "pots"
   ]
  },
  {
   "cell_type": "markdown",
   "metadata": {
    "id": "M2xZC7yc5ohr"
   },
   "source": [
    "# Matplotlib\n",
    "\n",
    "https://matplotlib.org/\n",
    "\n",
    "![descarga (1).png](data:image/png;base64,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)"
   ]
  },
  {
   "cell_type": "code",
   "execution_count": 41,
   "metadata": {},
   "outputs": [],
   "source": [
    "import matplotlib.pyplot as plt"
   ]
  },
  {
   "cell_type": "code",
   "execution_count": 77,
   "metadata": {},
   "outputs": [
    {
     "data": {
      "image/png": "[encoded data removed]",
      "text/plain": [
       "<Figure size 432x288 with 1 Axes>"
      ]
     },
     "metadata": {
      "needs_background": "light"
     },
     "output_type": "display_data"
    }
   ],
   "source": [
    "plt.plot(vels, pots, \"r-\" , label=\"Potencia\")\n",
    "plt.plot(vels,vels,\"bo\",label=\"Velocidades\")\n",
    "plt.title(\"Densidad\")\n",
    "plt.xlabel(\"Velocidad [$m s^{-1}$]\")\n",
    "plt.ylabel(\"Potencia [W]\")\n",
    "plt.xticks([0,1,2,3,4,5,6,7,8,9,10])\n",
    "plt.legend()\n",
    "plt.grid()\n",
    "plt.savefig(\"./python_eolica/densidad.png\", bbox_inches=\"tight\")"
   ]
  },
  {
   "cell_type": "markdown",
   "metadata": {
    "id": "655phgkI51bM"
   },
   "source": [
    "# Numpy"
   ]
  },
  {
   "cell_type": "code",
   "execution_count": 78,
   "metadata": {},
   "outputs": [],
   "source": [
    "import numpy as np"
   ]
  },
  {
   "cell_type": "code",
   "execution_count": 79,
   "metadata": {},
   "outputs": [],
   "source": [
    "a = [0,1,2,3,4,5,6,7,8,9,10]"
   ]
  },
  {
   "cell_type": "code",
   "execution_count": 90,
   "metadata": {},
   "outputs": [],
   "source": [
    "vels = np.arange(10,120,5)"
   ]
  },
  {
   "cell_type": "code",
   "execution_count": 91,
   "metadata": {},
   "outputs": [
    {
     "data": {
      "text/plain": [
       "array([ 10,  15,  20,  25,  30,  35,  40,  45,  50,  55,  60,  65,  70,\n",
       "        75,  80,  85,  90,  95, 100, 105, 110, 115])"
      ]
     },
     "execution_count": 91,
     "metadata": {},
     "output_type": "execute_result"
    }
   ],
   "source": [
    "vels"
   ]
  },
  {
   "cell_type": "code",
   "execution_count": 95,
   "metadata": {},
   "outputs": [
    {
     "data": {
      "text/plain": [
       "array([30, 35, 40, 45, 50, 55, 60, 65, 70, 75, 80, 85, 90])"
      ]
     },
     "execution_count": 95,
     "metadata": {},
     "output_type": "execute_result"
    }
   ],
   "source": [
    "vels[4:17]"
   ]
  },
  {
   "cell_type": "code",
   "execution_count": 99,
   "metadata": {},
   "outputs": [
    {
     "data": {
      "text/plain": [
       "array([6.00000e+02, 2.02500e+03, 4.80000e+03, 9.37500e+03, 1.62000e+04,\n",
       "       2.57250e+04, 3.84000e+04, 5.46750e+04, 7.50000e+04, 9.98250e+04,\n",
       "       1.29600e+05, 1.64775e+05, 2.05800e+05, 2.53125e+05, 3.07200e+05,\n",
       "       3.68475e+05, 4.37400e+05, 5.14425e+05, 6.00000e+05, 6.94575e+05,\n",
       "       7.98600e+05, 9.12525e+05])"
      ]
     },
     "execution_count": 99,
     "metadata": {},
     "output_type": "execute_result"
    }
   ],
   "source": [
    "potencia(vels)"
   ]
  },
  {
   "cell_type": "code",
   "execution_count": 100,
   "metadata": {},
   "outputs": [],
   "source": [
    "vels = np.arange(0,11,1)"
   ]
  },
  {
   "cell_type": "code",
   "execution_count": 101,
   "metadata": {},
   "outputs": [
    {
     "data": {
      "text/plain": [
       "[<matplotlib.lines.Line2D at 0x1da186954c8>]"
      ]
     },
     "execution_count": 101,
     "metadata": {},
     "output_type": "execute_result"
    },
    {
     "data": {
      "image/png": "[encoded data removed]",
      "text/plain": [
       "<Figure size 432x288 with 1 Axes>"
      ]
     },
     "metadata": {
      "needs_background": "light"
     },
     "output_type": "display_data"
    }
   ],
   "source": [
    "plt.plot(vels, potencia(vels))"
   ]
  },
  {
   "cell_type": "code",
   "execution_count": null,
   "metadata": {},
   "outputs": [],
   "source": []
  }
 ],
 "metadata": {
  "colab": {
   "authorship_tag": "ABX9TyPHkDIjR+pMvMaFm6EOJYwm",
   "name": "sesion2_python_eolica.ipynb",
   "provenance": []
  },
  "kernelspec": {
   "display_name": "Python 3",
   "language": "python",
   "name": "python3"
  },
  "language_info": {
   "codemirror_mode": {
    "name": "ipython",
    "version": 3
   },
   "file_extension": ".py",
   "mimetype": "text/x-python",
   "name": "python",
   "nbconvert_exporter": "python",
   "pygments_lexer": "ipython3",
   "version": "3.7.4"
  }
 },
 "nbformat": 4,
 "nbformat_minor": 1
}
